{
 "cells": [
  {
   "cell_type": "markdown",
   "metadata": {},
   "source": [
    "# 1. Set up the python environment"
   ]
  },
  {
   "cell_type": "markdown",
   "metadata": {},
   "source": [
    "### Install python libraries and clone the github repo"
   ]
  },
  {
   "cell_type": "code",
   "execution_count": null,
   "metadata": {},
   "outputs": [],
   "source": [
    "!pip3 install numpy scipy matplotlib autograd==1.1.13 tick numpydoc==0.7.0\n",
    "!git clone https://github.com/RuiZhang2016/Efficient-Nonparametric-Bayesian-Hawkes-Processes.git ENBHP"
   ]
  },
  {
   "cell_type": "markdown",
   "metadata": {},
   "source": [
    "### Add the path of the local repo"
   ]
  },
  {
   "cell_type": "code",
   "execution_count": null,
   "metadata": {},
   "outputs": [],
   "source": [
    "import sys\n",
    "sys.path.append('./BNPHP')"
   ]
  },
  {
   "cell_type": "markdown",
   "metadata": {},
   "source": [
    "### Import libraries"
   ]
  },
  {
   "cell_type": "code",
   "execution_count": 16,
   "metadata": {},
   "outputs": [],
   "source": [
    "import autograd.numpy as np\n",
    "import matplotlib.pyplot as plt\n",
    "from tick.base import TimeFunction\n",
    "from tick.hawkes import SimuInhomogeneousPoisson\n",
    "import gibbs_hawkes as gh\n",
    "import wp"
   ]
  },
  {
   "cell_type": "markdown",
   "metadata": {},
   "source": [
    "# 2. Implement Gibbs-Hawkes"
   ]
  },
  {
   "cell_type": "code",
   "execution_count": 2,
   "metadata": {},
   "outputs": [],
   "source": [
    "def squared_normal_shape_scale(mu, sigma):\n",
    "    # calculate alpha and beta in Eqn. (9)\n",
    "    \n",
    "    shape = (mu ** 2 + sigma ** 2) ** 2 / (2 * sigma ** 2 * (2 * mu ** 2 + sigma ** 2))\n",
    "    scale = (2 * mu ** 2 * sigma ** 2 + sigma ** 4) / (mu ** 2 + sigma ** 2)\n",
    "    return shape, scale\n",
    "\n",
    "\n",
    "def squared_normal_quantiles(mu, sigma, probs, double=False):\n",
    "    # quantiles of Y = 1/2 X^2 where X ~ N(mu, sigma^2)\n",
    "    # if probs is none, return the mean\n",
    "    \n",
    "    assert len(mu) == len(sigma)\n",
    "    factor = 2.0 if double else 1.0\n",
    "    mu = mu.flatten()\n",
    "    sigma = sigma.flatten()\n",
    "    shape, scale = squared_normal_shape_scale(mu, sigma)\n",
    "    if probs is None:\n",
    "        return shape * scale * factor\n",
    "    else:\n",
    "        probs2 = 1 - np.array(probs).flatten()\n",
    "        rval = np.array([gamma(a=thisshape, scale=thisscale).isf(probs2) for thisshape, thisscale in zip(shape, scale)])\n",
    "    return rval * factor\n",
    "\n",
    "\n",
    "def log_post_w(w, cov, xs, f2, phix):\n",
    "    # log of the posterior distribution of w\n",
    "    \n",
    "    f1 = -np.sum(np.log(np.dot(phix, w)**2))\n",
    "    df1 = -np.dot(phix.T, 2/np.abs(np.dot(phix, w)))\n",
    "    f = np.dot(f2+cov.Lambdainv, w)\n",
    "    f2 = np.dot(w, f)*0.5\n",
    "    df2 = f\n",
    "    return f1 + f2, df1 + df2\n",
    "\n",
    "\n",
    "def laplace_map_w(cov, xs, Omega):\n",
    "    # Eqn. (20) and (21), i.e.,\n",
    "    # calculate the optimal w and Q\n",
    "    \n",
    "    phix = cov._phi(np.array(sorted(np.concatenate([x[0] for x in xs]))).reshape((1, -1)))\n",
    "    f2 = np.sum(cov._integral_phiphi(np.array([np.pi - x[1] for x in xs])), axis=0)\n",
    "    fn = lambda w: log_post_w(w, cov, xs, f2, phix)\n",
    "    w0 = (1 + np.random.rand(cov.params.nterms))*0.01\n",
    "    res = minimize(fn, w0, method=_minimize_method, jac=True, options=_minimize_options)\n",
    "    what = res.x\n",
    "    Omega_I = Omega + f2\n",
    "    fhat = np.sum(phix * what, axis=1)\n",
    "    phix_div_f = phix / np.dot(phix, what).reshape(-1, 1)\n",
    "    Qinv = 2*np.dot(phix_div_f.T, phix_div_f)+Omega_I\n",
    "    Qinv = 0.5*(Qinv.T + Qinv)\n",
    "    L = np.linalg.cholesky(Qinv)\n",
    "    Linv = np.linalg.inv(L)\n",
    "    Q = Linv.T @ Linv\n",
    "    return what, Q, fhat\n",
    "\n",
    "\n",
    "_ml_key = r'$\\log p(X|\\Omega,k)$'\n",
    "\n",
    "\n",
    "def laplace_pred_w(phixstar, w, Q):\n",
    "    # infer the distribution of any set of x\n",
    "    \n",
    "    mustar = np.dot(phixstar, w)\n",
    "    Sigmastar = phixstar @ Q @ phixstar.T\n",
    "    sigmastar = np.sqrt(np.diag(Sigmastar))\n",
    "    return mustar, sigmastar, Sigmastar\n",
    "\n",
    "\n",
    "def sij(x, phi, mu):\n",
    "    # calculate probabilities of branching structures (Eqn. (10) and (11)) and\n",
    "    # sample a branching structure\n",
    "    \n",
    "    d, nx = x.shape\n",
    "    sij = np.zeros(nx)\n",
    "    for idx in range(1, nx):\n",
    "        l = phi(x[0, idx] - x[0, :idx])\n",
    "        pij = (np.append([mu],l))/(mu+np.sum(l))\n",
    "        sij[idx] = np.random.choice(range(idx + 1), 1, p=pij)\n",
    "    return sij"
   ]
  },
  {
   "cell_type": "markdown",
   "metadata": {},
   "source": [
    "# 3. Simulate the Hawkes Process"
   ]
  },
  {
   "cell_type": "markdown",
   "metadata": {},
   "source": [
    "### 3.1 Define a Hawkes process model in tick\n",
    "First, we define a cosine triggering kernel \n",
    "$$\\phi_{\\cos}(t) = \\begin{cases}\\cos(3\\pi t)+1 & t \\in [0,1] \\\\ 0 & otherwise \\end{cases}.$$"
   ]
  },
  {
   "cell_type": "code",
   "execution_count": 3,
   "metadata": {},
   "outputs": [],
   "source": [
    "# cosine triggering kernel\n",
    "run_time = np.pi\n",
    "ts1 = np.linspace(0, 1, 512)\n",
    "f = lambda t: np.cos(3*np.pi*t)+1\n",
    "ys1 = f(ts1)\n",
    "tf_phi_cos = TimeFunction([ts1, ys1])"
   ]
  },
  {
   "cell_type": "markdown",
   "metadata": {},
   "source": [
    "Second, we define a background intensity $$\\mu=10.$$"
   ]
  },
  {
   "cell_type": "code",
   "execution_count": 4,
   "metadata": {},
   "outputs": [],
   "source": [
    "# backgroun intensity: mu = 10\n",
    "ts2 = np.linspace(0, run_time, 256)\n",
    "ys2 = np.ones(len(ts2))*10\n",
    "tf_mu = TimeFunction([ts2, ys2])"
   ]
  },
  {
   "cell_type": "markdown",
   "metadata": {},
   "source": [
    "This is how the cosine triggering kernel looks like."
   ]
  },
  {
   "cell_type": "code",
   "execution_count": 5,
   "metadata": {},
   "outputs": [
    {
     "data": {
      "image/png": "[encoded data removed]",
      "text/plain": [
       "<Figure size 432x288 with 1 Axes>"
      ]
     },
     "metadata": {
      "needs_background": "light"
     },
     "output_type": "display_data"
    }
   ],
   "source": [
    "# visualize the triggering kernel\n",
    "xplot = np.linspace(0,run_time,1024)\n",
    "plt.plot(xplot, tf_phi_cos.value(xplot))\n",
    "plt.xlabel('t',fontsize=18)\n",
    "plt.ylabel('$\\phi_{\\cos}$',fontsize=18)\n",
    "plt.xticks(fontsize=18)\n",
    "plt.yticks(fontsize=18)\n",
    "plt.title('Cosine Triggering Kernel',fontsize=18)\n",
    "plt.show()"
   ]
  },
  {
   "cell_type": "markdown",
   "metadata": {},
   "source": [
    "### 3.2 Simulate the Hawkes process model\n",
    "First, define the simulation function."
   ]
  },
  {
   "cell_type": "code",
   "execution_count": 6,
   "metadata": {},
   "outputs": [],
   "source": [
    "def BS_simulation_stack(phi, mu, run_time):\n",
    "    # simulate a Hawkes process using the represention of \n",
    "    # the Poisson cluster processes\n",
    "    \n",
    "    in_poi = SimuInhomogeneousPoisson([mu], end_time=run_time, verbose=False)\n",
    "    in_poi.simulate()\n",
    "    p = 0\n",
    "    D = [(p, t) for t in in_poi.timestamps[0]]\n",
    "    while True:\n",
    "        c = D[p][1]\n",
    "        p = p+1\n",
    "        in_poi = SimuInhomogeneousPoisson([phi], end_time=run_time - c, verbose=False)\n",
    "        in_poi.simulate()\n",
    "        D += [(p, t + c) for t in in_poi.timestamps[0]]\n",
    "        if p == len(D):\n",
    "            break\n",
    "    return D"
   ]
  },
  {
   "cell_type": "markdown",
   "metadata": {},
   "source": [
    "Simulate 10 point sequences."
   ]
  },
  {
   "cell_type": "code",
   "execution_count": 7,
   "metadata": {},
   "outputs": [
    {
     "name": "stdout",
     "output_type": "stream",
     "text": [
      "The format of data is: [np.array([[ascending points]]), ..., np.array([[ascending points]])]\n"
     ]
    }
   ],
   "source": [
    "num_hist = 10\n",
    "hp_data_list = []\n",
    "for _ in range(num_hist):\n",
    "    D = BS_simulation_stack(tf_phi_cos, tf_mu, run_time)\n",
    "    hp_data = np.array(sorted([d[1] for d in D]))\n",
    "    hp_data_list += [hp_data]\n",
    "\n",
    "hp_data_list = [np.array([hist]) for hist in hp_data_list]\n",
    "print('The format of data is: [np.array([[ascending points]]), ..., np.array([[ascending points]])]')"
   ]
  },
  {
   "cell_type": "markdown",
   "metadata": {},
   "source": [
    "This is how toy data look like: "
   ]
  },
  {
   "cell_type": "code",
   "execution_count": 8,
   "metadata": {},
   "outputs": [
    {
     "name": "stdout",
     "output_type": "stream",
     "text": [
      "[array([[0.01027088, 0.07136142, 0.12523653, 0.49964589, 0.53396917,\n",
      "        0.60306619, 0.67258341, 0.77761956, 0.7956494 , 0.82397688,\n",
      "        0.88421691, 0.9067148 , 0.96321615, 0.96381295, 1.1629275 ,\n",
      "        1.18048983, 1.18905616, 1.25962688, 1.26237001, 1.34340305,\n",
      "        1.34963742, 1.43489084, 1.46635859, 1.49877463, 1.51056604,\n",
      "        1.52427178, 1.5417495 , 1.57865394, 1.60096892, 1.60241801,\n",
      "        1.6536389 , 1.8423244 , 1.84629466, 1.90005104, 1.9167201 ,\n",
      "        1.93725079, 1.93768621, 1.93799445, 1.98810146, 1.99630074,\n",
      "        2.02480248, 2.02532792, 2.06817528, 2.10569113, 2.14506043,\n",
      "        2.14865243, 2.14871036, 2.19425022, 2.2201404 , 2.23051876,\n",
      "        2.24189201, 2.26043252, 2.27062341, 2.28166345, 2.3646818 ,\n",
      "        2.36695729, 2.37546972, 2.37913353, 2.38733217, 2.41355992,\n",
      "        2.43323225, 2.4722421 , 2.47597819, 2.48858851, 2.49618185,\n",
      "        2.50730519, 2.55020915, 2.57426621, 2.59193237, 2.63507692,\n",
      "        2.63521136, 2.64094311, 2.64692444, 2.68051697, 2.68119025,\n",
      "        2.6939175 , 2.71522521, 2.72048399, 2.73597277, 2.74232563,\n",
      "        2.74760395, 2.75023264, 2.7573052 , 2.76197784, 2.76958871,\n",
      "        2.7785155 , 2.78255804, 2.7887917 , 2.79106419, 2.79988158,\n",
      "        2.83161178, 2.83521538, 2.84207019, 2.86718882, 2.87001005,\n",
      "        2.87878075, 2.87932417, 2.89714301, 2.91190045, 2.91902663,\n",
      "        2.94251876, 2.9488582 , 2.97480642, 2.98530107, 3.00165362,\n",
      "        3.01104199, 3.01627691, 3.04446445, 3.04914833, 3.05134348,\n",
      "        3.10165002, 3.10600405]]), array([[0.05272632, 0.05942844, 0.09542705, 0.13297218, 0.13453653,\n",
      "        0.14816893, 0.16275418, 0.18566863, 0.30414279, 0.39024717,\n",
      "        0.4106851 , 0.41309592, 0.52747294, 0.63850374, 0.64219634,\n",
      "        0.65105429, 0.66123209, 0.70205992, 0.72079049, 0.73032252,\n",
      "        0.7727636 , 0.79738858, 0.80181099, 0.92116814, 0.96134115,\n",
      "        1.01429459, 1.03342838, 1.03611771, 1.05674991, 1.06048888,\n",
      "        1.07633141, 1.07885367, 1.09879173, 1.17979078, 1.19589004,\n",
      "        1.20348439, 1.21306745, 1.25833855, 1.26034089, 1.28033321,\n",
      "        1.28670583, 1.28847685, 1.33352146, 1.40138929, 1.42812992,\n",
      "        1.43287885, 1.45291844, 1.46218571, 1.52301085, 1.5380903 ,\n",
      "        1.54821021, 1.54823019, 1.55827505, 1.55976318, 1.57242442,\n",
      "        1.59148838, 1.60440848, 1.6084885 , 1.65358005, 1.69969849,\n",
      "        1.72456505, 1.72955798, 1.73088666, 1.74748294, 1.76172755,\n",
      "        1.7801491 , 1.79304199, 1.80336581, 1.82814485, 1.83539353,\n",
      "        1.83978698, 1.84181388, 1.85179259, 1.85451398, 1.85861607,\n",
      "        1.87804514, 1.9225588 , 1.93476295, 1.9398363 , 1.94203956,\n",
      "        1.97875685, 2.00279196, 2.06801763, 2.07197948, 2.11111693,\n",
      "        2.12090275, 2.12360372, 2.13470173, 2.16422466, 2.1784129 ,\n",
      "        2.22393048, 2.22648252, 2.25043669, 2.25707998, 2.25947316,\n",
      "        2.26379004, 2.27248181, 2.2784186 , 2.27999643, 2.29497087,\n",
      "        2.31209058, 2.31367451, 2.31901758, 2.32519675, 2.3260049 ,\n",
      "        2.32647807, 2.32656509, 2.34076421, 2.34744398, 2.35038184,\n",
      "        2.35252763, 2.35255894, 2.36598049, 2.36625786, 2.37924604,\n",
      "        2.3809687 , 2.38625816, 2.3901    , 2.41185412, 2.42082696,\n",
      "        2.42400221, 2.42819073, 2.44565376, 2.48971143, 2.49411459,\n",
      "        2.50857656, 2.51769304, 2.53376062, 2.54179034, 2.55263741,\n",
      "        2.56072403, 2.56317958, 2.61102644, 2.61161289, 2.6552359 ,\n",
      "        2.72364182, 2.7306511 , 2.80621691, 2.82134233, 2.82709073,\n",
      "        2.8296197 , 2.83906121, 2.84784857, 2.84904514, 2.86683809,\n",
      "        2.87995971, 2.88509697, 2.88831972, 2.89018676, 2.90041726,\n",
      "        2.91499868, 2.91977069, 2.93002411, 2.93295903, 2.9608753 ,\n",
      "        2.9695721 , 2.98521921, 2.98962115, 3.006296  , 3.01104717,\n",
      "        3.03119579, 3.03197869, 3.03610405, 3.05031665, 3.05195549,\n",
      "        3.05389078, 3.05531639, 3.06689479, 3.06705138, 3.06937284,\n",
      "        3.07294719, 3.0735817 , 3.07399428, 3.07633308, 3.07668173,\n",
      "        3.08260242, 3.08529933, 3.09237888, 3.11079447, 3.11433619,\n",
      "        3.11456584, 3.11597998, 3.11723822, 3.12158705, 3.12730825,\n",
      "        3.13122225, 3.14117293]]), array([[0.22217677, 0.23636452, 0.2665714 , 0.39909743, 0.48111528,\n",
      "        0.57068849, 0.79154295, 0.9025449 , 0.9115788 , 0.92201138,\n",
      "        0.95739002, 0.96230154, 0.97043225, 0.98880121, 0.99142614,\n",
      "        1.01063742, 1.06954183, 1.11496013, 1.11578644, 1.15981642,\n",
      "        1.20531354, 1.21411301, 1.28048158, 1.2868157 , 1.34781283,\n",
      "        1.36388166, 1.43430205, 1.46508831, 1.47473414, 1.49754629,\n",
      "        1.5264282 , 1.53786254, 1.53878109, 1.54466612, 1.65030007,\n",
      "        1.66601774, 1.69997943, 1.72689819, 1.73041679, 1.73943905,\n",
      "        1.74219647, 1.75900053, 1.76626138, 1.76963432, 1.80273808,\n",
      "        1.82096525, 1.82868786, 1.86031546, 1.86035966, 1.88947142,\n",
      "        1.90824575, 1.90877947, 1.92428016, 1.92838638, 1.94613927,\n",
      "        1.94722245, 1.9817812 , 1.99326253, 2.02865335, 2.05386977,\n",
      "        2.09317603, 2.0932419 , 2.10868702, 2.11221544, 2.1452488 ,\n",
      "        2.15069222, 2.15153045, 2.15727427, 2.17606463, 2.2013082 ,\n",
      "        2.23434147, 2.23609573, 2.34695185, 2.36139064, 2.36267222,\n",
      "        2.36685615, 2.38733315, 2.40015302, 2.46060948, 2.46892175,\n",
      "        2.51937502, 2.51989999, 2.52232483, 2.52992467, 2.54208092,\n",
      "        2.55015468, 2.55420292, 2.56677496, 2.57130204, 2.5726082 ,\n",
      "        2.581934  , 2.58816174, 2.59818772, 2.609826  , 2.61146673,\n",
      "        2.62135604, 2.6240004 , 2.63781915, 2.63866325, 2.64622959,\n",
      "        2.66417478, 2.67415339, 2.68998419, 2.69448561, 2.69794686,\n",
      "        2.74842294, 2.75557027, 2.75743763, 2.7681761 , 2.82365751,\n",
      "        2.82939701, 2.83601904, 2.84339457, 2.852221  , 2.85471769,\n",
      "        2.85752492, 2.85904446, 2.8633145 , 2.86489246, 2.86985456,\n",
      "        2.87496871, 2.87596177, 2.88291124, 2.88436733, 2.90190754,\n",
      "        2.91288046, 2.91536023, 2.93916611, 2.98031616, 2.98817018,\n",
      "        3.05164115, 3.05360269, 3.05715562, 3.05860423, 3.07274625,\n",
      "        3.10185067, 3.11516344, 3.12322489]]), array([[0.02078241, 0.03155866, 0.06067831, 0.09985077, 0.38947641,\n",
      "        0.48416895, 0.51484603, 0.62499208, 0.7116552 , 0.71373394,\n",
      "        0.74817867, 0.77089571, 0.85961845, 0.91373404, 0.92208937,\n",
      "        0.98072449, 1.03074132, 1.0487963 , 1.11677725, 1.11860411,\n",
      "        1.11992098, 1.13532899, 1.14380427, 1.15142675, 1.18533209,\n",
      "        1.26452717, 1.30371642, 1.39283205, 1.40468001, 1.58177428,\n",
      "        1.59868815, 1.60034959, 1.6040248 , 1.61275218, 1.61898152,\n",
      "        1.62940337, 1.69491625, 1.70675921, 1.70707606, 1.72204776,\n",
      "        1.75399919, 1.81294058, 1.85789947, 1.89922091, 1.94070097,\n",
      "        1.94583451, 1.95781933, 1.97855001, 2.06352356, 2.0717781 ,\n",
      "        2.14324224, 2.16017824, 2.23042651, 2.30855092, 2.3278535 ,\n",
      "        2.32977675, 2.36478268, 2.37417837, 2.38199706, 2.38915963,\n",
      "        2.44243089, 2.47711926, 2.48010951, 2.50919248, 2.51755913,\n",
      "        2.52868401, 2.54692356, 2.58501409, 2.63330159, 2.67431061,\n",
      "        2.68602974, 2.74610754, 2.78552311, 2.83404831, 2.83788817,\n",
      "        2.84342288, 2.85767409, 2.88753087, 2.93320141, 2.97131436,\n",
      "        3.01074385, 3.03749425, 3.03758213, 3.04609693, 3.05236088,\n",
      "        3.069684  , 3.08212868, 3.12483911, 3.1289639 ]]), array([[0.28592001, 0.2944954 , 0.42640982, 0.43523272, 0.48029967,\n",
      "        0.65225304, 0.75363905, 0.77846909, 0.84457148, 0.84622979,\n",
      "        0.86068761, 0.86194257, 0.88495185, 0.89818282, 0.92604283,\n",
      "        0.94194403, 0.94757219, 0.96072472, 1.00095704, 1.00625265,\n",
      "        1.12648876, 1.13604082, 1.13734183, 1.13828787, 1.1532718 ,\n",
      "        1.16184507, 1.1626896 , 1.17233078, 1.4309779 , 1.51283036,\n",
      "        1.52085679, 1.52842649, 1.5432073 , 1.55315912, 1.65141541,\n",
      "        1.75485009, 1.77382687, 1.77621485, 1.7818661 , 1.78742097,\n",
      "        1.79349345, 1.81839386, 1.84458384, 1.94023788, 1.94135669,\n",
      "        1.94459857, 2.05372343, 2.08576049, 2.11240591, 2.12345418,\n",
      "        2.21533316, 2.27073562, 2.28168297, 2.30273417, 2.30704043,\n",
      "        2.34022745, 2.44714327, 2.45165269, 2.46993118, 2.50447373,\n",
      "        2.5263088 , 2.60403036, 2.60580741, 2.63025861, 2.63388173,\n",
      "        2.64103786, 2.66726048, 2.66927909, 2.6702645 , 2.67146752,\n",
      "        2.70435503, 2.72002639, 2.72905774, 2.75347572, 2.86347975,\n",
      "        2.89896976, 2.92596944, 2.93463623, 2.96352759, 2.99158836,\n",
      "        3.04071955, 3.05715779, 3.06853953, 3.0690028 , 3.074289  ,\n",
      "        3.08480591, 3.0890401 , 3.100429  , 3.13423852]]), array([[0.11353163, 0.14161073, 0.18598834, 0.21519272, 0.27492834,\n",
      "        0.27829287, 0.27893678, 0.30334146, 0.37634037, 0.42064889,\n",
      "        0.51464315, 0.52396314, 0.52721172, 0.77361648, 0.96183805,\n",
      "        0.98655443, 0.9922779 , 1.03111773, 1.09604525, 1.10285274,\n",
      "        1.12682502, 1.13173649, 1.13712811, 1.16075588, 1.19226451,\n",
      "        1.21953832, 1.26690128, 1.27024567, 1.2808184 , 1.28149619,\n",
      "        1.28283564, 1.34866073, 1.66126578, 1.67378441, 1.7051356 ,\n",
      "        1.75179592, 1.75584658, 1.76302531, 1.77818627, 1.79874949,\n",
      "        1.82245451, 1.84418733, 1.84757766, 1.92659626, 1.94765511,\n",
      "        1.96597452, 1.97385841, 1.98568603, 1.98902647, 2.00161621,\n",
      "        2.0165108 , 2.05099576, 2.08510229, 2.09196135, 2.19500035,\n",
      "        2.2040603 , 2.23647857, 2.24367789, 2.24759878, 2.27581429,\n",
      "        2.27945202, 2.31843108, 2.37043996, 2.38248008, 2.41103821,\n",
      "        2.42354372, 2.43067847, 2.43983205, 2.46760615, 2.49231168,\n",
      "        2.49441034, 2.50756171, 2.56478423, 2.56516723, 2.5714994 ,\n",
      "        2.60299506, 2.60528813, 2.63570069, 2.64760226, 2.65165274,\n",
      "        2.68765729, 2.6887579 , 2.69853877, 2.70830708, 2.75587998,\n",
      "        2.76094173, 2.76257596, 2.77152014, 2.77354018, 2.78919155,\n",
      "        2.79114568, 2.79510171, 2.82537336, 2.83026756, 2.84698854,\n",
      "        2.87703912, 2.8970917 , 2.89772958, 2.95192567, 2.96892164,\n",
      "        2.9792289 , 3.01044554, 3.01555387, 3.07338342, 3.08527022,\n",
      "        3.11721564, 3.11787198, 3.13758679]]), array([[0.08727506, 0.14405369, 0.23546104, 0.26432117, 0.28032377,\n",
      "        0.3255255 , 0.33244155, 0.33696212, 0.37186648, 0.54875186,\n",
      "        0.58421954, 0.59347288, 0.59490196, 0.67235591, 0.69256412,\n",
      "        0.7144015 , 0.74074845, 0.80082178, 0.80809106, 0.85302835,\n",
      "        0.89639059, 0.96739602, 0.96855017, 1.04256872, 1.05854293,\n",
      "        1.0718165 , 1.08018064, 1.08676565, 1.12063424, 1.13559702,\n",
      "        1.16560424, 1.17161749, 1.35549118, 1.36846132, 1.46146721,\n",
      "        1.46330332, 1.4922741 , 1.51363573, 1.51386652, 1.52387991,\n",
      "        1.53093025, 1.56013562, 1.56688553, 1.6035353 , 1.62068397,\n",
      "        1.64565935, 1.69426375, 1.70921125, 1.73715284, 1.75941191,\n",
      "        1.79293275, 1.83890064, 1.99327854, 1.99677261, 2.01780684,\n",
      "        2.04125964, 2.07979369, 2.11192758, 2.14482417, 2.17759965,\n",
      "        2.17830818, 2.18846273, 2.21060827, 2.22901794, 2.25076239,\n",
      "        2.33097259, 2.3327016 , 2.37975183, 2.38698493, 2.40313948,\n",
      "        2.42582128, 2.42833324, 2.43998506, 2.48713082, 2.49036179,\n",
      "        2.52373893, 2.5656614 , 2.61939887, 2.67703624, 2.68041424,\n",
      "        2.69814048, 2.71789806, 2.75097127, 2.77922548, 2.8137807 ,\n",
      "        2.81399175, 2.82376929, 2.82754685, 2.86508134, 2.86612441,\n",
      "        2.87856997, 2.88552571, 2.88846941, 2.91156287, 2.91883236,\n",
      "        2.92450719, 2.93257719, 2.93951975, 2.97027061, 2.98076977,\n",
      "        2.98812145, 3.00102966, 3.00233647, 3.01778351, 3.03282966,\n",
      "        3.04544337, 3.05389953, 3.05460158, 3.06767033, 3.08593412,\n",
      "        3.10395682, 3.10442402]]), array([[0.11498646, 0.1841452 , 0.22198129, 0.2986854 , 0.30575405,\n",
      "        0.3322533 , 0.35187672, 0.40156955, 0.415629  , 0.43703831,\n",
      "        0.43905225, 0.4652862 , 0.46896742, 0.51922326, 0.60335749,\n",
      "        0.6412237 , 0.66710461, 0.67343708, 0.68128575, 0.70928342,\n",
      "        0.77824248, 0.78979081, 0.79008005, 0.8029208 , 0.80427058,\n",
      "        0.81989103, 0.82866987, 0.88564129, 0.89078556, 0.9553042 ,\n",
      "        0.9695561 , 0.99241407, 0.99697779, 1.00028123, 1.02138355,\n",
      "        1.03947776, 1.09861781, 1.12485313, 1.13723651, 1.13783652,\n",
      "        1.18798166, 1.25217152, 1.25853903, 1.27258676, 1.29288354,\n",
      "        1.33259338, 1.39127922, 1.45848804, 1.46717203, 1.49211022,\n",
      "        1.53838178, 1.57487819, 1.58512563, 1.59766082, 1.67497951,\n",
      "        1.68610194, 1.7154015 , 1.71658527, 1.74526819, 1.74755733,\n",
      "        1.74819003, 1.75388122, 1.7577743 , 1.78156025, 1.79022234,\n",
      "        1.80656637, 1.81641998, 1.9841633 , 1.99659645, 2.00984331,\n",
      "        2.03748389, 2.03801266, 2.05538396, 2.08847291, 2.12258748,\n",
      "        2.12854051, 2.12999494, 2.13177664, 2.14625309, 2.16348099,\n",
      "        2.17845509, 2.23653566, 2.29237635, 2.30114322, 2.30148577,\n",
      "        2.30616865, 2.31481565, 2.32018723, 2.32776748, 2.34126784,\n",
      "        2.34348251, 2.39453524, 2.39803967, 2.43484584, 2.44468271,\n",
      "        2.44812013, 2.46204892, 2.46280892, 2.48262832, 2.54820493,\n",
      "        2.55192098, 2.56088923, 2.57135896, 2.58663053, 2.59651868,\n",
      "        2.61876432, 2.6660829 , 2.67147416, 2.6999326 , 2.70166672,\n",
      "        2.71367595, 2.72927035, 2.74442984, 2.75206435, 2.79118971,\n",
      "        2.80585942, 2.8584858 , 2.88739468, 2.9075809 , 2.92677128,\n",
      "        2.93682787, 2.96070302, 2.97072271, 2.98886587, 3.00246036,\n",
      "        3.0159925 , 3.03263814, 3.05531254, 3.06275608, 3.1174783 ,\n",
      "        3.12048309, 3.13284241]]), array([[0.01345262, 0.53018417, 0.53067145, 0.55200449, 0.55961621,\n",
      "        0.61114049, 0.64829164, 0.67711075, 0.79314034, 0.82477137,\n",
      "        0.84034095, 0.87948192, 0.94869332, 1.03869522, 1.17959073,\n",
      "        1.19641024, 1.21881333, 1.22722968, 1.33110432, 1.33448837,\n",
      "        1.36097503, 1.36109434, 1.36899844, 1.44297002, 1.49037458,\n",
      "        1.52782093, 1.54547333, 1.55738092, 1.61655365, 1.63848261,\n",
      "        1.70051385, 1.70859231, 1.7225582 , 1.74089755, 1.80452163,\n",
      "        1.81238593, 1.83328252, 1.85804604, 1.87904846, 1.88738659,\n",
      "        1.89345505, 1.90714877, 1.92825935, 1.95577308, 1.96075161,\n",
      "        1.96507852, 1.96631805, 1.9771833 , 1.99842528, 2.01771909,\n",
      "        2.02706112, 2.041305  , 2.0712737 , 2.07950409, 2.16423245,\n",
      "        2.16968746, 2.20572614, 2.24264287, 2.24931097, 2.27018315,\n",
      "        2.28540037, 2.32066911, 2.3301973 , 2.34067701, 2.36119889,\n",
      "        2.363178  , 2.36367913, 2.39251283, 2.46360911, 2.47475184,\n",
      "        2.48854179, 2.48929197, 2.49123113, 2.49943278, 2.50247332,\n",
      "        2.55255352, 2.55987489, 2.5789344 , 2.59200038, 2.59448574,\n",
      "        2.60245459, 2.60626363, 2.63648811, 2.65860664, 2.67698849,\n",
      "        2.6796359 , 2.6873176 , 2.69573396, 2.69583658, 2.70439593,\n",
      "        2.71856359, 2.72419557, 2.72994492, 2.74995167, 2.75037375,\n",
      "        2.75889794, 2.76269709, 2.76291354, 2.78148708, 2.78435814,\n",
      "        2.80958123, 2.82793568, 2.83164748, 2.87805395, 2.88402837,\n",
      "        2.88694653, 2.91534837, 2.93045014, 2.93453228, 2.94625351,\n",
      "        2.97058883, 2.989447  , 3.04886235, 3.06371175, 3.07744263,\n",
      "        3.09017128, 3.09701144, 3.10372664, 3.12787227]]), array([[0.26263345, 0.27373462, 0.33544864, 0.46971308, 0.62253488,\n",
      "        0.67112513, 0.75525762, 0.83954154, 0.87475327, 0.88165421,\n",
      "        0.88659247, 0.88805441, 0.91714762, 1.0508122 , 1.05986906,\n",
      "        1.06139952, 1.08431818, 1.08438029, 1.18309927, 1.18526833,\n",
      "        1.18836962, 1.19380452, 1.2058658 , 1.20721361, 1.29882169,\n",
      "        1.33297396, 1.34934276, 1.36655567, 1.39405696, 1.44205396,\n",
      "        1.45177195, 1.45619654, 1.46719874, 1.53376806, 1.547409  ,\n",
      "        1.55613018, 1.56746996, 1.5988366 , 1.64238249, 1.66329785,\n",
      "        1.68273203, 1.68796429, 1.69167894, 1.70252054, 1.70341145,\n",
      "        1.70674466, 1.73701678, 1.75312448, 1.77595006, 1.78392431,\n",
      "        1.78846197, 1.8013436 , 1.83235985, 1.88184277, 1.90060027,\n",
      "        1.90644245, 1.90927804, 1.91137683, 1.92943931, 1.93243418,\n",
      "        1.93948596, 1.94023854, 1.96036009, 1.98010004, 2.02949464,\n",
      "        2.03720684, 2.03746028, 2.04942036, 2.05448187, 2.08969614,\n",
      "        2.09690088, 2.11633649, 2.12937278, 2.13512665, 2.15044868,\n",
      "        2.15437012, 2.17403141, 2.18947871, 2.2126869 , 2.239983  ,\n",
      "        2.24906847, 2.25602919, 2.25750274, 2.28424179, 2.30855558,\n",
      "        2.3087982 , 2.32230493, 2.3367816 , 2.34297582, 2.45269504,\n",
      "        2.49467859, 2.53695355, 2.57026242, 2.58297131, 2.58830313,\n",
      "        2.59228887, 2.60910085, 2.62353277, 2.63283463, 2.63543574,\n",
      "        2.64554384, 2.65019012, 2.65518223, 2.66512735, 2.66530339,\n",
      "        2.68820188, 2.69443172, 2.72143294, 2.72555044, 2.73201638,\n",
      "        2.74120985, 2.80828389, 2.81878838, 2.83804805, 2.85256095,\n",
      "        2.8535055 , 2.86153776, 2.88019783, 2.8810666 , 2.89659303,\n",
      "        2.90761185, 2.9243968 , 2.93893314, 2.94562484, 2.9494147 ,\n",
      "        2.95337043, 3.02586392, 3.05061315, 3.13841669]])]\n"
     ]
    }
   ],
   "source": [
    "print(hp_data_list)"
   ]
  },
  {
   "cell_type": "markdown",
   "metadata": {},
   "source": [
    "# 4. Experiment - Infer the True Triggering Kernel\n",
    "### The infer() function is long but you can use it in a simple way: infer(your_data, plotted_x)"
   ]
  },
  {
   "cell_type": "code",
   "execution_count": 10,
   "metadata": {},
   "outputs": [],
   "source": [
    "xplot = np.linspace(0., 2, 128).reshape((1, -1))\n",
    "rm_f, rstd_f, rm_mu, rstd_mu = gh.infer(hp_data_list, xplot)"
   ]
  },
  {
   "cell_type": "markdown",
   "metadata": {},
   "source": [
    "plot the posterior distribution of the triggering kernel"
   ]
  },
  {
   "cell_type": "code",
   "execution_count": 18,
   "metadata": {},
   "outputs": [
    {
     "data": {
      "image/png": "[encoded data removed]",
      "text/plain": [
       "<Figure size 864x360 with 1 Axes>"
      ]
     },
     "metadata": {
      "needs_background": "light"
     },
     "output_type": "display_data"
    }
   ],
   "source": [
    "# ploting the estimated posterior distribution\n",
    "\n",
    "# plot configuration\n",
    "def plt_config(tf_phi):\n",
    "    if tf_phi:\n",
    "        plt.plot(xplot.flatten(), [tf_phi.value(x) for x in xplot.flatten()], 'gray', lw=6, label=\"True kernel\")\n",
    "    plt.xlabel('Time Difference', fontsize=18)\n",
    "    plt.ylabel('Kernel Value', fontsize=18)\n",
    "    plt.xticks(fontsize=18)\n",
    "    plt.yticks(fontsize=18)\n",
    "\n",
    "plt.figure(figsize = (12,5))\n",
    "quantiles = gh.squared_normal_quantiles(rm_f.aggregate().flatten(), rstd_f.aggregate().flatten(), [0.1, 0.5, 0.9])\n",
    "wp.gpplot(xplot[0], quantiles[:, 1], quantiles[:, 0], quantiles[:, 2], fillcol='r', edgecol='r',mulabel='Gibbs-Hawkes')\n",
    "plt_config(tf_phi_cos)\n",
    "plt.tight_layout()\n",
    "plt.xlim(0,2)\n",
    "plt.legend(loc='best',prop={'size':18})\n",
    "plt.title('Posterior Triggering Kernel',fontsize=18)\n",
    "plt.show()"
   ]
  },
  {
   "cell_type": "code",
   "execution_count": null,
   "metadata": {},
   "outputs": [],
   "source": []
  }
 ],
 "metadata": {
  "kernelspec": {
   "display_name": "Python 3",
   "language": "python",
   "name": "python3"
  },
  "language_info": {
   "codemirror_mode": {
    "name": "ipython",
    "version": 3
   },
   "file_extension": ".py",
   "mimetype": "text/x-python",
   "name": "python",
   "nbconvert_exporter": "python",
   "pygments_lexer": "ipython3",
   "version": "3.6.4"
  }
 },
 "nbformat": 4,
 "nbformat_minor": 2
}
