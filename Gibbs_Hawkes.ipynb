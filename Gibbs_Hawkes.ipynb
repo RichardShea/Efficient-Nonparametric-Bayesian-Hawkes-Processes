{
 "cells": [
  {
   "cell_type": "markdown",
   "metadata": {},
   "source": [
    "# 1. Set up the python environment"
   ]
  },
  {
   "cell_type": "markdown",
   "metadata": {},
   "source": [
    "### Install python libraries and clone the github repo"
   ]
  },
  {
   "cell_type": "code",
   "execution_count": 1,
   "metadata": {},
   "outputs": [
    {
     "name": "stdout",
     "output_type": "stream",
     "text": [
      "Requirement already satisfied: numpy in /home/rzhang/anaconda3/lib/python3.6/site-packages (1.14.3)\n",
      "Requirement already satisfied: scipy in /home/rzhang/anaconda3/lib/python3.6/site-packages (1.1.0)\n",
      "Requirement already satisfied: matplotlib in /home/rzhang/anaconda3/lib/python3.6/site-packages (2.2.2)\n",
      "Requirement already satisfied: autograd==1.1.13 in /home/rzhang/anaconda3/lib/python3.6/site-packages (1.1.13)\n",
      "Requirement already satisfied: tick in /home/rzhang/anaconda3/lib/python3.6/site-packages (0.5.0.0)\n",
      "Requirement already satisfied: numpydoc==0.7.0 in /home/rzhang/anaconda3/lib/python3.6/site-packages (0.7.0)\n",
      "Requirement already satisfied: cycler>=0.10 in /home/rzhang/anaconda3/lib/python3.6/site-packages (from matplotlib) (0.10.0)\n",
      "Requirement already satisfied: pyparsing!=2.0.4,!=2.1.2,!=2.1.6,>=2.0.1 in /home/rzhang/anaconda3/lib/python3.6/site-packages (from matplotlib) (2.2.0)\n",
      "Requirement already satisfied: python-dateutil>=2.1 in /home/rzhang/anaconda3/lib/python3.6/site-packages (from matplotlib) (2.7.3)\n",
      "Requirement already satisfied: pytz in /home/rzhang/anaconda3/lib/python3.6/site-packages (from matplotlib) (2018.4)\n",
      "Requirement already satisfied: six>=1.10 in /home/rzhang/anaconda3/lib/python3.6/site-packages (from matplotlib) (1.11.0)\n",
      "Requirement already satisfied: kiwisolver>=1.0.1 in /home/rzhang/anaconda3/lib/python3.6/site-packages (from matplotlib) (1.0.1)\n",
      "Requirement already satisfied: future>=0.15.2 in /home/rzhang/anaconda3/lib/python3.6/site-packages (from autograd==1.1.13) (0.17.1)\n",
      "Requirement already satisfied: sphinx in /home/rzhang/anaconda3/lib/python3.6/site-packages (from tick) (1.7.4)\n",
      "Requirement already satisfied: scikit-learn in /home/rzhang/anaconda3/lib/python3.6/site-packages (from tick) (0.19.1)\n",
      "Requirement already satisfied: pandas in /home/rzhang/anaconda3/lib/python3.6/site-packages (from tick) (0.23.0)\n",
      "Requirement already satisfied: Jinja2>=2.3 in /home/rzhang/anaconda3/lib/python3.6/site-packages (from numpydoc==0.7.0) (2.10)\n",
      "Requirement already satisfied: setuptools in /home/rzhang/anaconda3/lib/python3.6/site-packages (from kiwisolver>=1.0.1->matplotlib) (39.1.0)\n",
      "Requirement already satisfied: Pygments>=2.0 in /home/rzhang/anaconda3/lib/python3.6/site-packages (from sphinx->tick) (2.2.0)\n",
      "Requirement already satisfied: docutils>=0.11 in /home/rzhang/anaconda3/lib/python3.6/site-packages (from sphinx->tick) (0.14)\n",
      "Requirement already satisfied: snowballstemmer>=1.1 in /home/rzhang/anaconda3/lib/python3.6/site-packages (from sphinx->tick) (1.2.1)\n",
      "Requirement already satisfied: babel!=2.0,>=1.3 in /home/rzhang/anaconda3/lib/python3.6/site-packages (from sphinx->tick) (2.5.3)\n",
      "Requirement already satisfied: alabaster<0.8,>=0.7 in /home/rzhang/anaconda3/lib/python3.6/site-packages (from sphinx->tick) (0.7.10)\n",
      "Requirement already satisfied: imagesize in /home/rzhang/anaconda3/lib/python3.6/site-packages (from sphinx->tick) (1.0.0)\n",
      "Requirement already satisfied: requests>=2.0.0 in /home/rzhang/anaconda3/lib/python3.6/site-packages (from sphinx->tick) (2.18.4)\n",
      "Requirement already satisfied: packaging in /home/rzhang/anaconda3/lib/python3.6/site-packages (from sphinx->tick) (17.1)\n",
      "Requirement already satisfied: sphinxcontrib-websupport in /home/rzhang/anaconda3/lib/python3.6/site-packages (from sphinx->tick) (1.0.1)\n",
      "Requirement already satisfied: MarkupSafe>=0.23 in /home/rzhang/anaconda3/lib/python3.6/site-packages (from Jinja2>=2.3->numpydoc==0.7.0) (1.0)\n",
      "Requirement already satisfied: chardet<3.1.0,>=3.0.2 in /home/rzhang/anaconda3/lib/python3.6/site-packages (from requests>=2.0.0->sphinx->tick) (3.0.4)\n",
      "Requirement already satisfied: idna<2.7,>=2.5 in /home/rzhang/anaconda3/lib/python3.6/site-packages (from requests>=2.0.0->sphinx->tick) (2.6)\n",
      "Requirement already satisfied: urllib3<1.23,>=1.21.1 in /home/rzhang/anaconda3/lib/python3.6/site-packages (from requests>=2.0.0->sphinx->tick) (1.22)\n",
      "Requirement already satisfied: certifi>=2017.4.17 in /home/rzhang/anaconda3/lib/python3.6/site-packages (from requests>=2.0.0->sphinx->tick) (2018.4.16)\n",
      "\u001b[33mYou are using pip version 18.0, however version 19.0.3 is available.\n",
      "You should consider upgrading via the 'pip install --upgrade pip' command.\u001b[0m\n"
     ]
    }
   ],
   "source": [
    "!pip3 install numpy scipy matplotlib autograd==1.1.13 tick numpydoc==0.7.0\n",
    "!git clone https://github.com/RuiZhang2016/Efficient-Nonparametric-Bayesian-Hawkes-Processes.git ENBHP\n",
    "import sys\n",
    "sys.path.append('./ENBHP')"
   ]
  },
  {
   "cell_type": "markdown",
   "metadata": {},
   "source": [
    "### Import libraries"
   ]
  },
  {
   "cell_type": "code",
   "execution_count": 2,
   "metadata": {},
   "outputs": [
    {
     "name": "stderr",
     "output_type": "stream",
     "text": [
      "/home/rzhang/anaconda3/lib/python3.6/site-packages/h5py/__init__.py:36: FutureWarning: Conversion of the second argument of issubdtype from `float` to `np.floating` is deprecated. In future, it will be treated as `np.float64 == np.dtype(float).type`.\n",
      "  from ._conv import register_converters as _register_converters\n"
     ]
    }
   ],
   "source": [
    "import matplotlib \n",
    "%matplotlib inline\n",
    "import autograd.numpy as np\n",
    "import matplotlib.pyplot as plt\n",
    "from tick.base import TimeFunction\n",
    "from tick.hawkes import HawkesKernelTimeFunc, SimuHawkes\n",
    "import gibbs_hawkes as gh\n",
    "import wp"
   ]
  },
  {
   "cell_type": "markdown",
   "metadata": {},
   "source": [
    "# 2. Simulate the Hawkes Process"
   ]
  },
  {
   "cell_type": "markdown",
   "metadata": {},
   "source": [
    "### 2.1 Define a Hawkes process model in tick\n",
    "First, we define a cosine triggering kernel \n",
    "$$\\phi_{\\cos}(t) = \\begin{cases}\\cos(3\\pi t)+1 & t \\in [0,1] \\\\ 0 & otherwise \\end{cases}.$$"
   ]
  },
  {
   "cell_type": "code",
   "execution_count": 3,
   "metadata": {},
   "outputs": [],
   "source": [
    "# cosine triggering kernel\n",
    "run_time = np.pi\n",
    "ts1 = np.linspace(0, 1, 512)\n",
    "f = lambda t: np.cos(3*np.pi*t)+1\n",
    "ys1 = f(ts1)\n",
    "tf_phi = TimeFunction([ts1, ys1])\n",
    "HPkernel = HawkesKernelTimeFunc(t_values=ts1, y_values=ys1)"
   ]
  },
  {
   "cell_type": "markdown",
   "metadata": {},
   "source": [
    "Second, we define a background intensity $$\\mu=10.$$"
   ]
  },
  {
   "cell_type": "code",
   "execution_count": 4,
   "metadata": {},
   "outputs": [],
   "source": [
    "mu = 10"
   ]
  },
  {
   "cell_type": "markdown",
   "metadata": {},
   "source": [
    "This is how the cosine triggering kernel looks like."
   ]
  },
  {
   "cell_type": "code",
   "execution_count": 5,
   "metadata": {},
   "outputs": [
    {
     "data": {
      "image/png": "[encoded data removed]",
      "text/plain": [
       "<Figure size 432x288 with 1 Axes>"
      ]
     },
     "metadata": {},
     "output_type": "display_data"
    }
   ],
   "source": [
    "# visualize the triggering kernel\n",
    "xplot = np.linspace(0,run_time,1024)\n",
    "plt.plot(xplot, tf_phi.value(xplot))\n",
    "plt.xlabel('t',fontsize=18)\n",
    "plt.ylabel('$\\phi_{\\cos}$',fontsize=18)\n",
    "plt.xticks(fontsize=18)\n",
    "plt.yticks(fontsize=18)\n",
    "plt.title('Cosine Triggering Kernel',fontsize=18)\n",
    "plt.show()"
   ]
  },
  {
   "cell_type": "markdown",
   "metadata": {},
   "source": [
    "### 2.2 Simulate the Hawkes process model"
   ]
  },
  {
   "cell_type": "markdown",
   "metadata": {},
   "source": [
    "Simulate 10 point sequences."
   ]
  },
  {
   "cell_type": "code",
   "execution_count": 6,
   "metadata": {},
   "outputs": [
    {
     "name": "stdout",
     "output_type": "stream",
     "text": [
      "The format of data is: [np.array([[ascending points]]), ..., np.array([[ascending points]])]\n"
     ]
    }
   ],
   "source": [
    "num_hist = 10\n",
    "hp_data_list = []\n",
    "for i in range(num_hist):\n",
    "    hawkes = SimuHawkes(baseline=[mu], verbose=False, force_simulation=True, end_time=run_time, seed=1330+i)\n",
    "    hawkes.set_kernel(0, 0, HPkernel)\n",
    "    hawkes.simulate()\n",
    "    hp_data = np.array(hawkes.timestamps)\n",
    "    hp_data_list += [hp_data]\n",
    "\n",
    "print('The format of data is: [np.array([[ascending points]]), ..., np.array([[ascending points]])]')"
   ]
  },
  {
   "cell_type": "markdown",
   "metadata": {},
   "source": [
    "This is how toy data look like: "
   ]
  },
  {
   "cell_type": "code",
   "execution_count": 7,
   "metadata": {},
   "outputs": [
    {
     "name": "stdout",
     "output_type": "stream",
     "text": [
      "[array([[0.02980738, 0.05443853, 0.06975455, 0.09068151, 0.22559281,\n",
      "        0.27324729, 0.28444682, 0.30943205, 0.37520118, 0.38494087,\n",
      "        0.39701479, 0.4048886 , 0.50395308, 0.60071973, 0.62654821,\n",
      "        0.6489709 , 0.65994772, 0.69217574, 0.70519206, 0.72398358,\n",
      "        0.76518183, 0.82158128, 0.85116462, 0.86572441, 0.8785527 ,\n",
      "        0.97149041, 1.01077907, 1.04159977, 1.04600553, 1.15996774,\n",
      "        1.17859891, 1.18845331, 1.24650425, 1.2747151 , 1.32067465,\n",
      "        1.32197342, 1.380602  , 1.38412186, 1.41276616, 1.42450941,\n",
      "        1.46464297, 1.46779584, 1.46991066, 1.51950985, 1.53445434,\n",
      "        1.54223795, 1.54733173, 1.55756259, 1.59996581, 1.60692436,\n",
      "        1.65507073, 1.6602867 , 1.68116295, 1.70999439, 1.71004817,\n",
      "        1.74251239, 1.75433409, 1.76380425, 1.77541372, 1.78587303,\n",
      "        1.81070381, 1.82544602, 1.87200805, 1.8757129 , 1.87993064,\n",
      "        1.8941145 , 1.91000862, 1.91042106, 1.91222345, 1.91408288,\n",
      "        1.93645499, 1.94741913, 1.96606727, 1.98683222, 2.01507188,\n",
      "        2.03559546, 2.06307638, 2.06709944, 2.0671493 , 2.07276827,\n",
      "        2.07973008, 2.09497768, 2.09970729, 2.10266096, 2.10672856,\n",
      "        2.11066848, 2.11505889, 2.11572334, 2.11735201, 2.14567937,\n",
      "        2.16197425, 2.16673004, 2.18059415, 2.21334717, 2.22760281,\n",
      "        2.24292649, 2.24972902, 2.26241954, 2.26657904, 2.27427689,\n",
      "        2.28466088, 2.29781669, 2.31160333, 2.3321343 , 2.33214205,\n",
      "        2.39773513, 2.40730632, 2.41655008, 2.42232672, 2.42493886,\n",
      "        2.43255098, 2.43412127, 2.43537155, 2.45944125, 2.46820866,\n",
      "        2.469593  , 2.47462731, 2.47811179, 2.49424518, 2.50141702,\n",
      "        2.51328665, 2.52572997, 2.55310113, 2.59160278, 2.59671374,\n",
      "        2.60912329, 2.62288545, 2.62428269, 2.63771203, 2.64971735,\n",
      "        2.65457703, 2.66644041, 2.6664932 , 2.67370202, 2.69552357,\n",
      "        2.69582717, 2.70119294, 2.71093215, 2.73062069, 2.74548426,\n",
      "        2.75310089, 2.76160263, 2.76838755, 2.78306052, 2.79519685,\n",
      "        2.82431399, 2.8266528 , 2.83861495, 2.84552881, 2.84554312,\n",
      "        2.87271257, 2.89423631, 2.90361285, 2.90607519, 2.93191299,\n",
      "        2.93501443, 2.94134986, 2.95554802, 2.98072261, 2.99447425,\n",
      "        3.00299272, 3.01251242, 3.02093104, 3.02692029, 3.0490605 ,\n",
      "        3.06159548, 3.07651188, 3.08395331, 3.09616468, 3.12225028,\n",
      "        3.1295724 ]]), array([[0.01354743, 0.03503107, 0.23686617, 0.25665835, 0.36279899,\n",
      "        0.57200579, 0.68941508, 0.73018053, 0.75989282, 0.81933212,\n",
      "        0.83068176, 0.83117506, 0.85742933, 0.87989618, 0.92836275,\n",
      "        0.94438612, 0.97857008, 1.12764433, 1.13434103, 1.13765396,\n",
      "        1.22573587, 1.27526541, 1.30519822, 1.30864467, 1.31236776,\n",
      "        1.31403694, 1.31419647, 1.33570605, 1.37334124, 1.42969619,\n",
      "        1.44915052, 1.4628844 , 1.46985044, 1.50298508, 1.58529253,\n",
      "        1.60928974, 1.66005195, 1.68960766, 1.69534822, 1.71569362,\n",
      "        1.71734563, 1.78659079, 1.79070768, 1.80466649, 1.80578878,\n",
      "        1.93001896, 1.95021565, 1.97751623, 1.98199621, 2.00285033,\n",
      "        2.02085918, 2.12164297, 2.12745283, 2.18792396, 2.19734165,\n",
      "        2.20851368, 2.23250581, 2.24081729, 2.25633442, 2.26093635,\n",
      "        2.29831502, 2.34124077, 2.3510449 , 2.35433057, 2.36614366,\n",
      "        2.36748887, 2.43639183, 2.50419825, 2.51040003, 2.51369226,\n",
      "        2.54012109, 2.54120784, 2.55375929, 2.59924865, 2.62746053,\n",
      "        2.63682173, 2.63970619, 2.6720825 , 2.68231922, 2.68613077,\n",
      "        2.70281299, 2.70769549, 2.70906426, 2.73382464, 2.73776422,\n",
      "        2.77019231, 2.77368853, 2.78468027, 2.82047824, 2.82807104,\n",
      "        2.83657892, 2.83744326, 2.83938387, 2.84781007, 2.86638606,\n",
      "        2.87792913, 2.88341529, 2.88683127, 2.89353544, 2.90102291,\n",
      "        2.90738636, 2.91093082, 2.91695727, 2.91717906, 3.00812925,\n",
      "        3.01691588, 3.02184388, 3.0406446 , 3.04750828, 3.04860274,\n",
      "        3.09394232, 3.0999686 , 3.10697243, 3.12565038, 3.13376038]]), array([[0.0332691 , 0.04835914, 0.16805778, 0.17572565, 0.28990155,\n",
      "        0.39157398, 0.58563126, 0.59842021, 0.63987398, 0.72051257,\n",
      "        0.78258626, 1.01308223, 1.10647164, 1.11394955, 1.14475421,\n",
      "        1.14493396, 1.16409921, 1.16983535, 1.20917041, 1.21927907,\n",
      "        1.30316865, 1.31868758, 1.3347194 , 1.4028277 , 1.42206081,\n",
      "        1.42257686, 1.49097824, 1.52546438, 1.53798939, 1.54211313,\n",
      "        1.54472682, 1.5513651 , 1.57826168, 1.59814958, 1.63367583,\n",
      "        1.70452724, 1.72137406, 1.82557535, 1.84056129, 1.87388928,\n",
      "        1.8826593 , 1.88312381, 1.94291077, 1.96033775, 1.96507567,\n",
      "        1.9707957 , 2.0169659 , 2.02048403, 2.05110017, 2.06875337,\n",
      "        2.08720327, 2.09794013, 2.09804192, 2.09869835, 2.11388549,\n",
      "        2.13290349, 2.13696797, 2.14052497, 2.14745518, 2.16440712,\n",
      "        2.17051808, 2.1821018 , 2.19301095, 2.19577675, 2.20467562,\n",
      "        2.21289558, 2.21440155, 2.24857626, 2.25261027, 2.25793592,\n",
      "        2.29746125, 2.31841178, 2.34239492, 2.34652338, 2.35049032,\n",
      "        2.38841298, 2.3913955 , 2.40324372, 2.42346003, 2.46246223,\n",
      "        2.50980808, 2.55593988, 2.60506242, 2.6143539 , 2.62600416,\n",
      "        2.64811781, 2.65139094, 2.67180362, 2.6858632 , 2.69839735,\n",
      "        2.71027948, 2.71272223, 2.71689351, 2.72666744, 2.73342979,\n",
      "        2.74727476, 2.76365212, 2.77337702, 2.80139704, 2.80631829,\n",
      "        2.83718811, 2.86083997, 2.86944811, 2.87580619, 2.88377884,\n",
      "        2.89837973, 2.9038955 , 2.9554549 , 2.96200651, 2.98374958,\n",
      "        3.00374945, 3.01072699, 3.0143293 , 3.02363574, 3.06923157,\n",
      "        3.08767719, 3.08941109, 3.09989791, 3.13043388]]), array([[0.00349868, 0.01971167, 0.0828419 , 0.0902231 , 0.14189543,\n",
      "        0.15260318, 0.15758114, 0.18889636, 0.20002886, 0.20160834,\n",
      "        0.23611801, 0.24888834, 0.26225757, 0.27685808, 0.29704768,\n",
      "        0.38925606, 0.62889847, 0.65580537, 0.74316165, 0.79466966,\n",
      "        0.80532336, 0.80624844, 0.89590143, 0.91335421, 0.93110769,\n",
      "        0.93355544, 0.94778628, 0.97504916, 0.99414885, 1.00583329,\n",
      "        1.02924516, 1.03634951, 1.06061998, 1.08685698, 1.11994364,\n",
      "        1.15060137, 1.1591582 , 1.28934751, 1.39586215, 1.40073423,\n",
      "        1.40179262, 1.41256744, 1.42637873, 1.42745023, 1.42790449,\n",
      "        1.43734637, 1.44382894, 1.46272822, 1.49468428, 1.50480003,\n",
      "        1.52999692, 1.5381272 , 1.55000001, 1.57843622, 1.60517718,\n",
      "        1.60686677, 1.61099114, 1.61316679, 1.62603416, 1.62635273,\n",
      "        1.64905696, 1.65972302, 1.66380507, 1.69847769, 1.72601438,\n",
      "        1.72786652, 1.73251514, 1.76000336, 1.77335775, 1.78243034,\n",
      "        1.85233351, 1.88576055, 1.89381616, 1.90656965, 1.96643278,\n",
      "        1.99626232, 2.05706306, 2.06025666, 2.08855893, 2.09814851,\n",
      "        2.09833591, 2.10569941, 2.10831282, 2.12534118, 2.127644  ,\n",
      "        2.1467416 , 2.18088241, 2.19587056, 2.22224022, 2.2232508 ,\n",
      "        2.26052984, 2.28002348, 2.29290217, 2.29679764, 2.3019387 ,\n",
      "        2.31777574, 2.38845211, 2.39163819, 2.40694694, 2.41357842,\n",
      "        2.42054489, 2.42188325, 2.43565857, 2.44708738, 2.48441644,\n",
      "        2.49155818, 2.51219882, 2.54597565, 2.5579627 , 2.55843389,\n",
      "        2.57589764, 2.61199254, 2.612134  , 2.63681562, 2.65190346,\n",
      "        2.65412324, 2.67175052, 2.68305053, 2.68917506, 2.70427168,\n",
      "        2.70532487, 2.70636376, 2.71132488, 2.72225988, 2.7378408 ,\n",
      "        2.7402873 , 2.74351028, 2.75550403, 2.76969231, 2.77438693,\n",
      "        2.77935216, 2.80662262, 2.80713101, 2.8223014 , 2.82965697,\n",
      "        2.83258192, 2.8338834 , 2.84692313, 2.84806166, 2.85772454,\n",
      "        2.86243929, 2.89371736, 2.90425263, 2.93060453, 2.94509378,\n",
      "        2.95375897, 2.96075874, 2.96483539, 2.97130697, 2.98124063,\n",
      "        2.99655947, 2.99847275, 3.01463964, 3.01828266, 3.02471152,\n",
      "        3.04183682, 3.0646327 , 3.08103281, 3.09848431, 3.10126257,\n",
      "        3.11307584, 3.12980725]]), array([[0.03129014, 0.32677324, 0.37973722, 0.46643216, 0.53304774,\n",
      "        0.55649035, 0.56138289, 0.59929148, 0.68085807, 0.70023912,\n",
      "        0.71535762, 0.73571724, 0.74255944, 0.77794845, 0.81018081,\n",
      "        0.81825648, 0.82405558, 0.87065116, 0.92404276, 0.92790364,\n",
      "        0.97036505, 0.987153  , 0.98893366, 0.99837241, 1.02703632,\n",
      "        1.02812398, 1.04384938, 1.05867408, 1.06639906, 1.09163438,\n",
      "        1.12590409, 1.17642219, 1.1846793 , 1.18945415, 1.20226341,\n",
      "        1.26241142, 1.27907308, 1.28353688, 1.32497077, 1.34929279,\n",
      "        1.36570556, 1.36672514, 1.38735111, 1.4135513 , 1.43577392,\n",
      "        1.46122101, 1.47272377, 1.47529265, 1.48390456, 1.50314025,\n",
      "        1.50335859, 1.50960872, 1.54334043, 1.55095967, 1.56141862,\n",
      "        1.68833575, 1.69396399, 1.69471915, 1.71723503, 1.72358229,\n",
      "        1.73598471, 1.73963404, 1.74394915, 1.75769567, 1.79523984,\n",
      "        1.80249733, 1.81639689, 1.84669693, 1.84998271, 1.85160353,\n",
      "        1.85887192, 1.89312449, 1.89514135, 1.91773485, 1.9223115 ,\n",
      "        1.9299573 , 1.95852312, 1.97020994, 2.00123389, 2.03073861,\n",
      "        2.03343333, 2.03481017, 2.03863527, 2.05527203, 2.06087306,\n",
      "        2.0608732 , 2.07024643, 2.09000717, 2.10707831, 2.11701567,\n",
      "        2.12286901, 2.14427313, 2.17204873, 2.18099741, 2.18825068,\n",
      "        2.18922486, 2.214576  , 2.22655882, 2.26654834, 2.27367656,\n",
      "        2.27483143, 2.29790169, 2.33230457, 2.3398127 , 2.35678144,\n",
      "        2.36386882, 2.37939809, 2.38602136, 2.40891311, 2.41784824,\n",
      "        2.42683829, 2.43901634, 2.45092476, 2.4649756 , 2.46842188,\n",
      "        2.47627445, 2.49783307, 2.5076153 , 2.51029409, 2.51775814,\n",
      "        2.51784135, 2.538609  , 2.54543633, 2.54758924, 2.54989289,\n",
      "        2.56175391, 2.5778428 , 2.58306164, 2.58767148, 2.63089767,\n",
      "        2.65589305, 2.66044645, 2.67853322, 2.67865522, 2.69860377,\n",
      "        2.73100877, 2.73878167, 2.74028161, 2.74905061, 2.76155814,\n",
      "        2.79633061, 2.80048545, 2.82328941, 2.8246329 , 2.82674109,\n",
      "        2.82942916, 2.8672826 , 2.90146711, 2.95451734, 2.97271212,\n",
      "        2.97873399, 2.99183331, 2.99806621, 3.00808058, 3.02149466,\n",
      "        3.04263886, 3.05146822, 3.05354188, 3.06505636, 3.06954382,\n",
      "        3.07522638, 3.07927361, 3.09298774, 3.0940987 , 3.1010353 ,\n",
      "        3.1188064 , 3.1247339 , 3.13094703, 3.13812714]]), array([[0.13388065, 0.14487495, 0.14806805, 0.34355922, 0.36785466,\n",
      "        0.3882282 , 0.4266761 , 0.71442562, 0.7148502 , 1.01418493,\n",
      "        1.10463917, 1.18168686, 1.19897432, 1.26524204, 1.36102304,\n",
      "        1.36270483, 1.36820878, 1.38290333, 1.39464013, 1.4419086 ,\n",
      "        1.45286873, 1.5629839 , 1.65615034, 1.66199936, 1.69701087,\n",
      "        1.71801166, 1.72250531, 1.83301204, 1.8507223 , 1.88341329,\n",
      "        1.95459014, 1.9567741 , 1.96351882, 1.96970204, 2.02757984,\n",
      "        2.10100519, 2.11739941, 2.14749433, 2.16314767, 2.16542148,\n",
      "        2.18792942, 2.19525006, 2.24236877, 2.2757752 , 2.34934964,\n",
      "        2.358583  , 2.39592551, 2.43451389, 2.4849051 , 2.49161373,\n",
      "        2.49215481, 2.51517388, 2.54909786, 2.60435125, 2.71716334,\n",
      "        2.72933274, 2.74499884, 2.78662096, 2.80562528, 2.82348444,\n",
      "        2.84286896, 2.84418172, 2.84759302, 2.84772888, 2.88336691,\n",
      "        2.90802498, 2.91811256, 2.95237872, 2.95584104, 2.98582507,\n",
      "        3.0092765 , 3.0433855 , 3.07871329, 3.12616441, 3.13508833,\n",
      "        3.13835098]]), array([[0.07240257, 0.07490662, 0.11278014, 0.21155973, 0.47810829,\n",
      "        0.49154456, 0.56450462, 0.58551297, 0.71274959, 0.73175891,\n",
      "        0.77015311, 0.84308525, 0.86690593, 0.90245151, 0.90655941,\n",
      "        0.95526765, 0.95739137, 0.99689058, 0.99853258, 1.051609  ,\n",
      "        1.09283314, 1.09912124, 1.11923203, 1.13835595, 1.17940648,\n",
      "        1.22786247, 1.24173538, 1.30479134, 1.33512569, 1.36171188,\n",
      "        1.38699236, 1.50151448, 1.54898989, 1.58275422, 1.59456879,\n",
      "        1.62155502, 1.62587345, 1.64509187, 1.69517718, 1.71239243,\n",
      "        1.72250698, 1.77027942, 1.77490622, 1.78054859, 1.78387602,\n",
      "        1.80899434, 1.86262906, 1.86274185, 1.87595891, 1.90038574,\n",
      "        1.9136182 , 1.92441829, 1.93397082, 1.93795119, 1.95635831,\n",
      "        1.97450983, 1.97778195, 2.01044922, 2.0222303 , 2.02622268,\n",
      "        2.04398651, 2.05478683, 2.07085726, 2.07439532, 2.11059724,\n",
      "        2.12898324, 2.14874651, 2.16996914, 2.17774232, 2.20977054,\n",
      "        2.22387701, 2.2579082 , 2.26562109, 2.29917007, 2.30031064,\n",
      "        2.30665285, 2.31768276, 2.31926981, 2.33889181, 2.35420425,\n",
      "        2.35628015, 2.37501064, 2.37841367, 2.39105014, 2.41201398,\n",
      "        2.48502791, 2.48537002, 2.52057333, 2.58120121, 2.60155047,\n",
      "        2.61138874, 2.61416618, 2.62517084, 2.67574519, 2.69276041,\n",
      "        2.74653725, 2.74718175, 2.81052727, 2.8380934 , 2.83953717,\n",
      "        2.86335371, 2.87039452, 2.87109344, 2.89971575, 2.91049762,\n",
      "        2.92289088, 2.94281905, 2.95701369, 2.96894964, 2.96944254,\n",
      "        3.00838748, 3.01459805, 3.01770256, 3.02816957, 3.03608142,\n",
      "        3.04104847, 3.04344887, 3.04974417, 3.05545456, 3.06396798,\n",
      "        3.06497824, 3.07735154, 3.08399586, 3.08586295, 3.08912445,\n",
      "        3.12168757]]), array([[0.12040589, 0.21685083, 0.24476231, 0.24645374, 0.26623143,\n",
      "        0.67516937, 0.82817801, 0.83008357, 0.83491409, 0.9865631 ,\n",
      "        0.99137425, 1.03687801, 1.0426611 , 1.12637599, 1.16245668,\n",
      "        1.16497877, 1.2265543 , 1.52982911, 1.58027823, 1.65521723,\n",
      "        1.65802457, 1.68632187, 1.68690495, 1.68759557, 1.72023488,\n",
      "        1.75827397, 1.77586594, 1.77654192, 2.08330583, 2.08829829,\n",
      "        2.17314875, 2.17391166, 2.191718  , 2.19989341, 2.20664335,\n",
      "        2.21406957, 2.2602631 , 2.28691471, 2.28739598, 2.37484837,\n",
      "        2.38757224, 2.40875961, 2.48662258, 2.58420922, 2.60762715,\n",
      "        2.73911086, 2.74285996, 2.80826624, 2.8274032 , 2.85247805,\n",
      "        2.85914078, 2.89020804, 2.8931907 , 2.91497941, 2.93976562,\n",
      "        2.96020743, 2.96542407, 3.01393075, 3.03035982, 3.05992201]]), array([[0.29503237, 0.77763646, 1.0974157 , 1.21019863, 1.35431058,\n",
      "        1.42634748, 1.48529407, 1.50150566, 1.57044854, 1.69012881,\n",
      "        1.73753027, 1.73926241, 1.79461291, 1.81823302, 1.86329128,\n",
      "        1.97478475, 1.97746251, 2.03007891, 2.03102251, 2.07644411,\n",
      "        2.10832464, 2.17547697, 2.18877958, 2.22845307, 2.23724085,\n",
      "        2.2892667 , 2.30022522, 2.34685176, 2.35986548, 2.36035856,\n",
      "        2.48931727, 2.51128753, 2.52627214, 2.52917805, 2.53176657,\n",
      "        2.53929741, 2.56341488, 2.57146111, 2.57345626, 2.61761456,\n",
      "        2.69714136, 2.78615138, 2.78770792, 2.79234443, 2.81036947,\n",
      "        2.82736701, 2.83915667, 2.8487984 , 2.84883126, 2.87873564,\n",
      "        2.88116971, 2.88543759, 2.98172245, 2.98481756, 3.00726104,\n",
      "        3.04361889, 3.08169702, 3.08724615, 3.09948068, 3.11641662,\n",
      "        3.11702608]]), array([[0.05260632, 0.07471737, 0.17079103, 0.18308269, 0.19455693,\n",
      "        0.19568414, 0.22272358, 0.30826161, 0.32566403, 0.34939057,\n",
      "        0.35870829, 0.42719094, 0.47425641, 0.49941935, 0.61157578,\n",
      "        0.67344249, 0.67835075, 0.69522908, 0.71329194, 0.71972334,\n",
      "        0.73359177, 0.7351018 , 0.75641055, 0.77531572, 0.78393072,\n",
      "        0.80758756, 0.80880926, 0.81229378, 0.89956646, 0.9114672 ,\n",
      "        0.91275291, 0.94577406, 0.94933405, 0.97033476, 0.98854154,\n",
      "        1.02259771, 1.04634683, 1.05141273, 1.06610539, 1.07106227,\n",
      "        1.09604006, 1.10014916, 1.10315929, 1.13116686, 1.14272679,\n",
      "        1.14424913, 1.14487343, 1.14506238, 1.15245415, 1.21634468,\n",
      "        1.28609094, 1.29042277, 1.30810199, 1.31633834, 1.32693429,\n",
      "        1.33973065, 1.35240954, 1.3728244 , 1.37770519, 1.38817692,\n",
      "        1.38997798, 1.40278478, 1.4068284 , 1.43144241, 1.47608278,\n",
      "        1.5467125 , 1.66194421, 1.66956942, 1.67167018, 1.69787641,\n",
      "        1.71659732, 1.7553705 , 1.76144834, 1.77157232, 1.77360514,\n",
      "        1.77900362, 1.78176873, 1.81113504, 1.8181509 , 1.828274  ,\n",
      "        1.84788879, 1.86688934, 1.89032669, 1.90921351, 1.9108951 ,\n",
      "        1.9171204 , 1.92677343, 1.95553078, 1.99631317, 1.99633186,\n",
      "        2.01199818, 2.02658421, 2.03706679, 2.04482353, 2.04998085,\n",
      "        2.05361544, 2.05872288, 2.06131881, 2.06725815, 2.07822543,\n",
      "        2.10158889, 2.14900102, 2.1540977 , 2.16927704, 2.17205117,\n",
      "        2.18678097, 2.18905804, 2.21468306, 2.21717014, 2.33779064,\n",
      "        2.33871809, 2.38596461, 2.40138689, 2.42553751, 2.4497028 ,\n",
      "        2.4530173 , 2.47465638, 2.48368603, 2.49276349, 2.50468911,\n",
      "        2.51421223, 2.51941127, 2.53155762, 2.55053221, 2.56007713,\n",
      "        2.57735517, 2.58937187, 2.60528736, 2.61615417, 2.61870937,\n",
      "        2.62045334, 2.66603785, 2.67719795, 2.69611492, 2.70235636,\n",
      "        2.71242979, 2.73126081, 2.75179349, 2.7544798 , 2.76596477,\n",
      "        2.76919459, 2.84481088, 2.86805489, 2.89521199, 2.89717158,\n",
      "        2.89795043, 2.90560205, 2.91614393, 2.91749548, 2.9507069 ,\n",
      "        2.95202667, 2.96707734, 2.97243239, 2.97452914, 3.00589735,\n",
      "        3.01240075, 3.02505983, 3.04792902, 3.05059331, 3.05573974,\n",
      "        3.08442673, 3.10833854, 3.11953674]])]\n"
     ]
    }
   ],
   "source": [
    "print(hp_data_list)"
   ]
  },
  {
   "cell_type": "markdown",
   "metadata": {},
   "source": [
    "# 3. Experiment - Infer the True Triggering Kernel\n",
    "### The infer() function is a bit complex. A simple example using it is: infer(your_data, plotted_x)"
   ]
  },
  {
   "cell_type": "code",
   "execution_count": 13,
   "metadata": {},
   "outputs": [
    {
     "name": "stderr",
     "output_type": "stream",
     "text": [
      "/home/rzhang/PycharmProjects/Efficient-Nonparametric-Bayesian-Hawkes-Processes/cov.py:47: RuntimeWarning: divide by zero encountered in true_divide\n",
      "  integral[:, range(1, nterms), range(1, nterms)] = (ud2 + (0.25 / m * np.sin(2.0 * m * u)))[:, 0, 1:]\n",
      "/home/rzhang/PycharmProjects/Efficient-Nonparametric-Bayesian-Hawkes-Processes/cov.py:47: RuntimeWarning: invalid value encountered in multiply\n",
      "  integral[:, range(1, nterms), range(1, nterms)] = (ud2 + (0.25 / m * np.sin(2.0 * m * u)))[:, 0, 1:]\n"
     ]
    }
   ],
   "source": [
    "xplot = np.linspace(0., 2, 128).reshape((1, -1))\n",
    "rm_f, rstd_f, rm_mu, rstd_mu = gh.infer(hp_data_list, xplot)"
   ]
  },
  {
   "cell_type": "markdown",
   "metadata": {},
   "source": [
    "plot the posterior distribution of the triggering kernel"
   ]
  },
  {
   "cell_type": "code",
   "execution_count": 14,
   "metadata": {},
   "outputs": [
    {
     "data": {
      "image/png": "[encoded data removed]",
      "text/plain": [
       "<Figure size 864x360 with 1 Axes>"
      ]
     },
     "metadata": {},
     "output_type": "display_data"
    }
   ],
   "source": [
    "# ploting the estimated posterior distribution\n",
    "\n",
    "# plot configuration\n",
    "def plt_config(xplot, tf_phi):\n",
    "    if tf_phi:\n",
    "        plt.plot(xplot.flatten(), [tf_phi.value(x) for x in xplot.flatten()], 'gray', lw=6, label=\"True kernel\")\n",
    "    plt.xlabel('Time Difference', fontsize=18)\n",
    "    plt.ylabel('Kernel Value', fontsize=18)\n",
    "    plt.xticks(fontsize=18)\n",
    "    plt.yticks(fontsize=18)\n",
    "\n",
    "plt.figure(figsize = (12,5))\n",
    "quantiles = gh.squared_normal_quantiles(rm_f.aggregate().flatten(), rstd_f.aggregate().flatten(), [0.1, 0.5, 0.9])\n",
    "wp.gpplot(xplot[0], quantiles[:, 1], quantiles[:, 0], quantiles[:, 2], fillcol='r', edgecol='r',mulabel='Gibbs-Hawkes')\n",
    "plt_config(xplot, tf_phi)\n",
    "plt.tight_layout()\n",
    "plt.xlim(0,2)\n",
    "plt.legend(loc='best',prop={'size':18})\n",
    "plt.title('Posterior Triggering Kernel',fontsize=18)\n",
    "plt.show()"
   ]
  },
  {
   "cell_type": "code",
   "execution_count": null,
   "metadata": {},
   "outputs": [],
   "source": []
  }
 ],
 "metadata": {
  "kernelspec": {
   "display_name": "Python [default]",
   "language": "python",
   "name": "python3"
  },
  "language_info": {
   "codemirror_mode": {
    "name": "ipython",
    "version": 3
   },
   "file_extension": ".py",
   "mimetype": "text/x-python",
   "name": "python",
   "nbconvert_exporter": "python",
   "pygments_lexer": "ipython3",
   "version": "3.6.5"
  }
 },
 "nbformat": 4,
 "nbformat_minor": 2
}
