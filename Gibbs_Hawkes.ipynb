{
 "cells": [
  {
   "cell_type": "markdown",
   "metadata": {},
   "source": [
    "# 1. Set up the python environment"
   ]
  },
  {
   "cell_type": "markdown",
   "metadata": {},
   "source": [
    "### Install python libraries and clone the github repo"
   ]
  },
  {
   "cell_type": "code",
   "execution_count": null,
   "metadata": {},
   "outputs": [],
   "source": [
    "!pip3 install numpy scipy matplotlib autograd==1.1.13 tick numpydoc==0.7.0\n",
    "!git clone https://github.com/RuiZhang2016/Efficient-Nonparametric-Bayesian-Hawkes-Processes.git ENBHP"
   ]
  },
  {
   "cell_type": "markdown",
   "metadata": {},
   "source": [
    "### Add the path of the local repo"
   ]
  },
  {
   "cell_type": "code",
   "execution_count": null,
   "metadata": {},
   "outputs": [],
   "source": [
    "import sys\n",
    "sys.path.append('./ENBHP')"
   ]
  },
  {
   "cell_type": "markdown",
   "metadata": {},
   "source": [
    "### Import libraries"
   ]
  },
  {
   "cell_type": "code",
   "execution_count": 2,
   "metadata": {},
   "outputs": [],
   "source": [
    "import autograd.numpy as np\n",
    "import matplotlib.pyplot as plt\n",
    "from tick.base import TimeFunction\n",
    "from tick.hawkes import SimuInhomogeneousPoisson\n",
    "import gibbs_hawkes as gh\n",
    "import wp"
   ]
  },
  {
   "cell_type": "markdown",
   "metadata": {},
   "source": [
    "# 2. Implement Gibbs-Hawkes"
   ]
  },
  {
   "cell_type": "code",
   "execution_count": null,
   "metadata": {},
   "outputs": [],
   "source": [
    "def squared_normal_shape_scale(mu, sigma):\n",
    "    # calculate alpha and beta in Eqn. (9)\n",
    "    \n",
    "    shape = (mu ** 2 + sigma ** 2) ** 2 / (2 * sigma ** 2 * (2 * mu ** 2 + sigma ** 2))\n",
    "    scale = (2 * mu ** 2 * sigma ** 2 + sigma ** 4) / (mu ** 2 + sigma ** 2)\n",
    "    return shape, scale\n",
    "\n",
    "\n",
    "def squared_normal_quantiles(mu, sigma, probs, double=False):\n",
    "    # quantiles of Y = 1/2 X^2 where X ~ N(mu, sigma^2)\n",
    "    # if probs is none, return the mean\n",
    "    \n",
    "    assert len(mu) == len(sigma)\n",
    "    factor = 2.0 if double else 1.0\n",
    "    mu = mu.flatten()\n",
    "    sigma = sigma.flatten()\n",
    "    shape, scale = squared_normal_shape_scale(mu, sigma)\n",
    "    if probs is None:\n",
    "        return shape * scale * factor\n",
    "    else:\n",
    "        probs2 = 1 - np.array(probs).flatten()\n",
    "        rval = np.array([gamma(a=thisshape, scale=thisscale).isf(probs2) for thisshape, thisscale in zip(shape, scale)])\n",
    "    return rval * factor\n",
    "\n",
    "\n",
    "def log_post_w(w, cov, xs, f2, phix):\n",
    "    # log of the posterior distribution of w\n",
    "    \n",
    "    f1 = -np.sum(np.log(np.dot(phix, w)**2))\n",
    "    df1 = -np.dot(phix.T, 2/np.abs(np.dot(phix, w)))\n",
    "    f = np.dot(f2+cov.Lambdainv, w)\n",
    "    f2 = np.dot(w, f)*0.5\n",
    "    df2 = f\n",
    "    return f1 + f2, df1 + df2\n",
    "\n",
    "\n",
    "def laplace_map_w(cov, xs, Omega):\n",
    "    # Eqn. (20) and (21), i.e.,\n",
    "    # calculate the optimal w and Q\n",
    "    \n",
    "    phix = cov._phi(np.array(sorted(np.concatenate([x[0] for x in xs]))).reshape((1, -1)))\n",
    "    f2 = np.sum(cov._integral_phiphi(np.array([np.pi - x[1] for x in xs])), axis=0)\n",
    "    fn = lambda w: log_post_w(w, cov, xs, f2, phix)\n",
    "    w0 = (1 + np.random.rand(cov.params.nterms))*0.01\n",
    "    res = minimize(fn, w0, method=_minimize_method, jac=True, options=_minimize_options)\n",
    "    what = res.x\n",
    "    Omega_I = Omega + f2\n",
    "    fhat = np.sum(phix * what, axis=1)\n",
    "    phix_div_f = phix / np.dot(phix, what).reshape(-1, 1)\n",
    "    Qinv = 2*np.dot(phix_div_f.T, phix_div_f)+Omega_I\n",
    "    Qinv = 0.5*(Qinv.T + Qinv)\n",
    "    L = np.linalg.cholesky(Qinv)\n",
    "    Linv = np.linalg.inv(L)\n",
    "    Q = Linv.T @ Linv\n",
    "    return what, Q, fhat\n",
    "\n",
    "\n",
    "_ml_key = r'$\\log p(X|\\Omega,k)$'\n",
    "\n",
    "\n",
    "def laplace_pred_w(phixstar, w, Q):\n",
    "    # infer the distribution of any set of x\n",
    "    \n",
    "    mustar = np.dot(phixstar, w)\n",
    "    Sigmastar = phixstar @ Q @ phixstar.T\n",
    "    sigmastar = np.sqrt(np.diag(Sigmastar))\n",
    "    return mustar, sigmastar, Sigmastar\n",
    "\n",
    "\n",
    "def sij(x, phi, mu):\n",
    "    # calculate probabilities of branching structures (Eqn. (10) and (11)) and\n",
    "    # sample a branching structure\n",
    "    \n",
    "    d, nx = x.shape\n",
    "    sij = np.zeros(nx)\n",
    "    for idx in range(1, nx):\n",
    "        l = phi(x[0, idx] - x[0, :idx])\n",
    "        pij = (np.append([mu],l))/(mu+np.sum(l))\n",
    "        sij[idx] = np.random.choice(range(idx + 1), 1, p=pij)\n",
    "    return sij"
   ]
  },
  {
   "cell_type": "markdown",
   "metadata": {},
   "source": [
    "# 3. Simulate the Hawkes Process"
   ]
  },
  {
   "cell_type": "markdown",
   "metadata": {},
   "source": [
    "### 3.1 Define a Hawkes process model in tick\n",
    "First, we define a cosine triggering kernel \n",
    "$$\\phi_{\\cos}(t) = \\begin{cases}\\cos(3\\pi t)+1 & t \\in [0,1] \\\\ 0 & otherwise \\end{cases}.$$"
   ]
  },
  {
   "cell_type": "code",
   "execution_count": null,
   "metadata": {},
   "outputs": [],
   "source": [
    "# cosine triggering kernel\n",
    "run_time = np.pi\n",
    "ts1 = np.linspace(0, 1, 512)\n",
    "f = lambda t: np.cos(3*np.pi*t)+1\n",
    "ys1 = f(ts1)\n",
    "tf_phi_cos = TimeFunction([ts1, ys1])"
   ]
  },
  {
   "cell_type": "markdown",
   "metadata": {},
   "source": [
    "Second, we define a background intensity $$\\mu=10.$$"
   ]
  },
  {
   "cell_type": "code",
   "execution_count": null,
   "metadata": {},
   "outputs": [],
   "source": [
    "# backgroun intensity: mu = 10\n",
    "ts2 = np.linspace(0, run_time, 256)\n",
    "ys2 = np.ones(len(ts2))*10\n",
    "tf_mu = TimeFunction([ts2, ys2])"
   ]
  },
  {
   "cell_type": "markdown",
   "metadata": {},
   "source": [
    "This is how the cosine triggering kernel looks like."
   ]
  },
  {
   "cell_type": "code",
   "execution_count": null,
   "metadata": {},
   "outputs": [],
   "source": [
    "# visualize the triggering kernel\n",
    "xplot = np.linspace(0,run_time,1024)\n",
    "plt.plot(xplot, tf_phi_cos.value(xplot))\n",
    "plt.xlabel('t',fontsize=18)\n",
    "plt.ylabel('$\\phi_{\\cos}$',fontsize=18)\n",
    "plt.xticks(fontsize=18)\n",
    "plt.yticks(fontsize=18)\n",
    "plt.title('Cosine Triggering Kernel',fontsize=18)\n",
    "plt.show()"
   ]
  },
  {
   "cell_type": "markdown",
   "metadata": {},
   "source": [
    "### 3.2 Simulate the Hawkes process model\n",
    "First, define the simulation function."
   ]
  },
  {
   "cell_type": "code",
   "execution_count": null,
   "metadata": {},
   "outputs": [],
   "source": [
    "def BS_simulation_stack(phi, mu, run_time):\n",
    "    # simulate a Hawkes process using the represention of \n",
    "    # the Poisson cluster processes\n",
    "    \n",
    "    in_poi = SimuInhomogeneousPoisson([mu], end_time=run_time, verbose=False)\n",
    "    in_poi.simulate()\n",
    "    p = 0\n",
    "    D = [(p, t) for t in in_poi.timestamps[0]]\n",
    "    while True:\n",
    "        c = D[p][1]\n",
    "        p = p+1\n",
    "        in_poi = SimuInhomogeneousPoisson([phi], end_time=run_time - c, verbose=False)\n",
    "        in_poi.simulate()\n",
    "        D += [(p, t + c) for t in in_poi.timestamps[0]]\n",
    "        if p == len(D):\n",
    "            break\n",
    "    return D"
   ]
  },
  {
   "cell_type": "markdown",
   "metadata": {},
   "source": [
    "Simulate 10 point sequences."
   ]
  },
  {
   "cell_type": "code",
   "execution_count": null,
   "metadata": {},
   "outputs": [],
   "source": [
    "num_hist = 10\n",
    "hp_data_list = []\n",
    "for _ in range(num_hist):\n",
    "    D = BS_simulation_stack(tf_phi_cos, tf_mu, run_time)\n",
    "    hp_data = np.array(sorted([d[1] for d in D]))\n",
    "    hp_data_list += [hp_data]\n",
    "\n",
    "hp_data_list = [np.array([hist]) for hist in hp_data_list]\n",
    "print('The format of data is: [np.array([[ascending points]]), ..., np.array([[ascending points]])]')"
   ]
  },
  {
   "cell_type": "markdown",
   "metadata": {},
   "source": [
    "This is how toy data look like: "
   ]
  },
  {
   "cell_type": "code",
   "execution_count": null,
   "metadata": {},
   "outputs": [],
   "source": [
    "print(hp_data_list)"
   ]
  },
  {
   "cell_type": "markdown",
   "metadata": {},
   "source": [
    "# 4. Experiment - Infer the True Triggering Kernel\n",
    "### The infer() function is long but you can use it in a simple way: infer(your_data, plotted_x)"
   ]
  },
  {
   "cell_type": "code",
   "execution_count": null,
   "metadata": {},
   "outputs": [],
   "source": [
    "xplot = np.linspace(0., 2, 128).reshape((1, -1))\n",
    "rm_f, rstd_f, rm_mu, rstd_mu = gh.infer(hp_data_list, xplot)"
   ]
  },
  {
   "cell_type": "markdown",
   "metadata": {},
   "source": [
    "plot the posterior distribution of the triggering kernel"
   ]
  },
  {
   "cell_type": "code",
   "execution_count": null,
   "metadata": {},
   "outputs": [],
   "source": [
    "# ploting the estimated posterior distribution\n",
    "\n",
    "# plot configuration\n",
    "def plt_config(tf_phi):\n",
    "    if tf_phi:\n",
    "        plt.plot(xplot.flatten(), [tf_phi.value(x) for x in xplot.flatten()], 'gray', lw=6, label=\"True kernel\")\n",
    "    plt.xlabel('Time Difference', fontsize=18)\n",
    "    plt.ylabel('Kernel Value', fontsize=18)\n",
    "    plt.xticks(fontsize=18)\n",
    "    plt.yticks(fontsize=18)\n",
    "\n",
    "plt.figure(figsize = (12,5))\n",
    "quantiles = gh.squared_normal_quantiles(rm_f.aggregate().flatten(), rstd_f.aggregate().flatten(), [0.1, 0.5, 0.9])\n",
    "wp.gpplot(xplot[0], quantiles[:, 1], quantiles[:, 0], quantiles[:, 2], fillcol='r', edgecol='r',mulabel='Gibbs-Hawkes')\n",
    "plt_config(tf_phi_cos)\n",
    "plt.tight_layout()\n",
    "plt.xlim(0,2)\n",
    "plt.legend(loc='best',prop={'size':18})\n",
    "plt.title('Posterior Triggering Kernel',fontsize=18)\n",
    "plt.show()"
   ]
  },
  {
   "cell_type": "code",
   "execution_count": null,
   "metadata": {},
   "outputs": [],
   "source": []
  }
 ],
 "metadata": {
  "kernelspec": {
   "display_name": "Python 3",
   "language": "python",
   "name": "python3"
  },
  "language_info": {
   "codemirror_mode": {
    "name": "ipython",
    "version": 3
   },
   "file_extension": ".py",
   "mimetype": "text/x-python",
   "name": "python",
   "nbconvert_exporter": "python",
   "pygments_lexer": "ipython3",
   "version": "3.6.4"
  }
 },
 "nbformat": 4,
 "nbformat_minor": 2
}
